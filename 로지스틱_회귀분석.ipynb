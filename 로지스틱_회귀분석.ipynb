{
  "nbformat": 4,
  "nbformat_minor": 0,
  "metadata": {
    "colab": {
      "name": "로지스틱 회귀분석 ",
      "provenance": [],
      "include_colab_link": true
    },
    "kernelspec": {
      "name": "python3",
      "display_name": "Python 3"
    }
  },
  "cells": [
    {
      "cell_type": "markdown",
      "metadata": {
        "id": "view-in-github",
        "colab_type": "text"
      },
      "source": [
        "<a href=\"https://colab.research.google.com/github/komos0509/Study/blob/main/%EB%A1%9C%EC%A7%80%EC%8A%A4%ED%8B%B1_%ED%9A%8C%EA%B7%80%EB%B6%84%EC%84%9D.ipynb\" target=\"_parent\"><img src=\"https://colab.research.google.com/assets/colab-badge.svg\" alt=\"Open In Colab\"/></a>"
      ]
    },
    {
      "metadata": {
        "id": "x-s4tlOHwfH3",
        "colab": {
          "base_uri": "https://localhost:8080/"
        },
        "outputId": "df1f2266-1be6-4db2-b5b1-d128c17b1525"
      },
      "cell_type": "code",
      "source": [
        "!wget https://kimyoungjin06.github.io/2018dbc/lectures/2018DBC_data.zip"
      ],
      "execution_count": 1,
      "outputs": [
        {
          "output_type": "stream",
          "name": "stdout",
          "text": [
            "--2022-06-27 13:17:35--  https://kimyoungjin06.github.io/2018dbc/lectures/2018DBC_data.zip\n",
            "Resolving kimyoungjin06.github.io (kimyoungjin06.github.io)... 185.199.109.153, 185.199.110.153, 185.199.108.153, ...\n",
            "Connecting to kimyoungjin06.github.io (kimyoungjin06.github.io)|185.199.109.153|:443... connected.\n",
            "HTTP request sent, awaiting response... 200 OK\n",
            "Length: 1120837 (1.1M) [application/zip]\n",
            "Saving to: ‘2018DBC_data.zip’\n",
            "\n",
            "\r2018DBC_data.zip      0%[                    ]       0  --.-KB/s               \r2018DBC_data.zip    100%[===================>]   1.07M  --.-KB/s    in 0.01s   \n",
            "\n",
            "2022-06-27 13:17:35 (89.0 MB/s) - ‘2018DBC_data.zip’ saved [1120837/1120837]\n",
            "\n"
          ]
        }
      ]
    },
    {
      "metadata": {
        "id": "o8lZuuvzwwd1",
        "colab": {
          "base_uri": "https://localhost:8080/"
        },
        "outputId": "6022f4a3-924f-4fb8-e4cf-6dc437e48f12"
      },
      "cell_type": "code",
      "source": [
        "!unzip 2018DBC_data.zip"
      ],
      "execution_count": 2,
      "outputs": [
        {
          "output_type": "stream",
          "name": "stdout",
          "text": [
            "Archive:  2018DBC_data.zip\n",
            "  inflating: [FOR_DISTRIBUTE]test_data.csv  \n",
            "  inflating: [FOR_DISTRIBUTE]train_data.csv  \n"
          ]
        }
      ]
    },
    {
      "metadata": {
        "id": "LK90-RcWD4pr",
        "colab": {
          "base_uri": "https://localhost:8080/"
        },
        "outputId": "149e4814-c127-4b19-e932-b369f88ec16d"
      },
      "cell_type": "code",
      "source": [
        "!ls"
      ],
      "execution_count": 3,
      "outputs": [
        {
          "output_type": "stream",
          "name": "stdout",
          "text": [
            " 2018DBC_data.zip\t\t '[FOR_DISTRIBUTE]train_data.csv'\n",
            "'[FOR_DISTRIBUTE]test_data.csv'   sample_data\n"
          ]
        }
      ]
    },
    {
      "metadata": {
        "id": "HWQPhnmKyQ_G"
      },
      "cell_type": "code",
      "source": [
        "import pandas as pd"
      ],
      "execution_count": 4,
      "outputs": []
    },
    {
      "metadata": {
        "id": "cqIk1z5-yJ1f",
        "colab": {
          "base_uri": "https://localhost:8080/",
          "height": 468
        },
        "outputId": "db0e6adf-3b3e-4223-fd5e-f1b1f8c3d06b"
      },
      "cell_type": "code",
      "source": [
        "data = pd.read_csv('[FOR_DISTRIBUTE]train_data.csv')\n",
        "data"
      ],
      "execution_count": 5,
      "outputs": [
        {
          "output_type": "execute_result",
          "data": {
            "text/plain": [
              "          ID Class   Weekday  ACCESSORIES  AUTOMOTIVE  BAKERY  \\\n",
              "0          2     H  Saturday            0           0       0   \n",
              "1          3     A    Sunday            0           0       0   \n",
              "2          4     H    Monday            0           0       0   \n",
              "3          5     E    Friday            0           0       0   \n",
              "4          6     G    Friday            0           0       0   \n",
              "...      ...   ...       ...          ...         ...     ...   \n",
              "75669  95669     D    Friday            0           0       0   \n",
              "75670  95670     A    Friday            0           0       0   \n",
              "75671  95671     I   Tuesday            0           0       0   \n",
              "75672  95672     C   Tuesday            0           0       0   \n",
              "75673  95673     I   Tuesday            0           0       0   \n",
              "\n",
              "       BATH.AND.SHOWER  BEAUTY  BEDDING  BOOKS.AND.MAGAZINES  ...  SEAFOOD  \\\n",
              "0                    0       2        0                    0  ...        0   \n",
              "1                    0       0        0                    0  ...        0   \n",
              "2                    0       0        0                    0  ...        0   \n",
              "3                    0       0        0                    0  ...        0   \n",
              "4                    1       0        0                    0  ...        0   \n",
              "...                ...     ...      ...                  ...  ...      ...   \n",
              "75669                0       0        0                    0  ...        0   \n",
              "75670                0       0        0                    0  ...        0   \n",
              "75671                0       0        0                    0  ...        0   \n",
              "75672                0       0        0                    0  ...        0   \n",
              "75673                0       0        0                    0  ...        0   \n",
              "\n",
              "       SERVICE.DELI  SHEER.HOSIERY  SHOES  SLEEPWEAR.FOUNDATIONS  \\\n",
              "0                 0              0      0                      0   \n",
              "1                 0              0      0                      0   \n",
              "2                 0              0      0                      0   \n",
              "3                 0              0      0                      0   \n",
              "4                 0              0      0                      0   \n",
              "...             ...            ...    ...                    ...   \n",
              "75669             0              0      0                      0   \n",
              "75670             0              0      0                      0   \n",
              "75671             0              0      0                      0   \n",
              "75672             0              0      0                      0   \n",
              "75673             0              0      0                      0   \n",
              "\n",
              "       SPORTING.GOODS  SWIMWEAR.OUTERWEAR  TOYS  WIRELESS  PHARMACY  \n",
              "0                   0                   0     0         0         0  \n",
              "1                   0                   0     0         0         0  \n",
              "2                   0                   0     0         0         0  \n",
              "3                   0                   0     0         0         0  \n",
              "4                   0                   0     0         0         0  \n",
              "...               ...                 ...   ...       ...       ...  \n",
              "75669               0                   0     0         0         0  \n",
              "75670               0                   0     0         0         2  \n",
              "75671               0                   0     0         0         0  \n",
              "75672               0                   0     0         0         0  \n",
              "75673               0                   0     0         0         0  \n",
              "\n",
              "[75674 rows x 56 columns]"
            ],
            "text/html": [
              "\n",
              "  <div id=\"df-050b101d-4e11-4296-b722-1ccbb9cb154f\">\n",
              "    <div class=\"colab-df-container\">\n",
              "      <div>\n",
              "<style scoped>\n",
              "    .dataframe tbody tr th:only-of-type {\n",
              "        vertical-align: middle;\n",
              "    }\n",
              "\n",
              "    .dataframe tbody tr th {\n",
              "        vertical-align: top;\n",
              "    }\n",
              "\n",
              "    .dataframe thead th {\n",
              "        text-align: right;\n",
              "    }\n",
              "</style>\n",
              "<table border=\"1\" class=\"dataframe\">\n",
              "  <thead>\n",
              "    <tr style=\"text-align: right;\">\n",
              "      <th></th>\n",
              "      <th>ID</th>\n",
              "      <th>Class</th>\n",
              "      <th>Weekday</th>\n",
              "      <th>ACCESSORIES</th>\n",
              "      <th>AUTOMOTIVE</th>\n",
              "      <th>BAKERY</th>\n",
              "      <th>BATH.AND.SHOWER</th>\n",
              "      <th>BEAUTY</th>\n",
              "      <th>BEDDING</th>\n",
              "      <th>BOOKS.AND.MAGAZINES</th>\n",
              "      <th>...</th>\n",
              "      <th>SEAFOOD</th>\n",
              "      <th>SERVICE.DELI</th>\n",
              "      <th>SHEER.HOSIERY</th>\n",
              "      <th>SHOES</th>\n",
              "      <th>SLEEPWEAR.FOUNDATIONS</th>\n",
              "      <th>SPORTING.GOODS</th>\n",
              "      <th>SWIMWEAR.OUTERWEAR</th>\n",
              "      <th>TOYS</th>\n",
              "      <th>WIRELESS</th>\n",
              "      <th>PHARMACY</th>\n",
              "    </tr>\n",
              "  </thead>\n",
              "  <tbody>\n",
              "    <tr>\n",
              "      <th>0</th>\n",
              "      <td>2</td>\n",
              "      <td>H</td>\n",
              "      <td>Saturday</td>\n",
              "      <td>0</td>\n",
              "      <td>0</td>\n",
              "      <td>0</td>\n",
              "      <td>0</td>\n",
              "      <td>2</td>\n",
              "      <td>0</td>\n",
              "      <td>0</td>\n",
              "      <td>...</td>\n",
              "      <td>0</td>\n",
              "      <td>0</td>\n",
              "      <td>0</td>\n",
              "      <td>0</td>\n",
              "      <td>0</td>\n",
              "      <td>0</td>\n",
              "      <td>0</td>\n",
              "      <td>0</td>\n",
              "      <td>0</td>\n",
              "      <td>0</td>\n",
              "    </tr>\n",
              "    <tr>\n",
              "      <th>1</th>\n",
              "      <td>3</td>\n",
              "      <td>A</td>\n",
              "      <td>Sunday</td>\n",
              "      <td>0</td>\n",
              "      <td>0</td>\n",
              "      <td>0</td>\n",
              "      <td>0</td>\n",
              "      <td>0</td>\n",
              "      <td>0</td>\n",
              "      <td>0</td>\n",
              "      <td>...</td>\n",
              "      <td>0</td>\n",
              "      <td>0</td>\n",
              "      <td>0</td>\n",
              "      <td>0</td>\n",
              "      <td>0</td>\n",
              "      <td>0</td>\n",
              "      <td>0</td>\n",
              "      <td>0</td>\n",
              "      <td>0</td>\n",
              "      <td>0</td>\n",
              "    </tr>\n",
              "    <tr>\n",
              "      <th>2</th>\n",
              "      <td>4</td>\n",
              "      <td>H</td>\n",
              "      <td>Monday</td>\n",
              "      <td>0</td>\n",
              "      <td>0</td>\n",
              "      <td>0</td>\n",
              "      <td>0</td>\n",
              "      <td>0</td>\n",
              "      <td>0</td>\n",
              "      <td>0</td>\n",
              "      <td>...</td>\n",
              "      <td>0</td>\n",
              "      <td>0</td>\n",
              "      <td>0</td>\n",
              "      <td>0</td>\n",
              "      <td>0</td>\n",
              "      <td>0</td>\n",
              "      <td>0</td>\n",
              "      <td>0</td>\n",
              "      <td>0</td>\n",
              "      <td>0</td>\n",
              "    </tr>\n",
              "    <tr>\n",
              "      <th>3</th>\n",
              "      <td>5</td>\n",
              "      <td>E</td>\n",
              "      <td>Friday</td>\n",
              "      <td>0</td>\n",
              "      <td>0</td>\n",
              "      <td>0</td>\n",
              "      <td>0</td>\n",
              "      <td>0</td>\n",
              "      <td>0</td>\n",
              "      <td>0</td>\n",
              "      <td>...</td>\n",
              "      <td>0</td>\n",
              "      <td>0</td>\n",
              "      <td>0</td>\n",
              "      <td>0</td>\n",
              "      <td>0</td>\n",
              "      <td>0</td>\n",
              "      <td>0</td>\n",
              "      <td>0</td>\n",
              "      <td>0</td>\n",
              "      <td>0</td>\n",
              "    </tr>\n",
              "    <tr>\n",
              "      <th>4</th>\n",
              "      <td>6</td>\n",
              "      <td>G</td>\n",
              "      <td>Friday</td>\n",
              "      <td>0</td>\n",
              "      <td>0</td>\n",
              "      <td>0</td>\n",
              "      <td>1</td>\n",
              "      <td>0</td>\n",
              "      <td>0</td>\n",
              "      <td>0</td>\n",
              "      <td>...</td>\n",
              "      <td>0</td>\n",
              "      <td>0</td>\n",
              "      <td>0</td>\n",
              "      <td>0</td>\n",
              "      <td>0</td>\n",
              "      <td>0</td>\n",
              "      <td>0</td>\n",
              "      <td>0</td>\n",
              "      <td>0</td>\n",
              "      <td>0</td>\n",
              "    </tr>\n",
              "    <tr>\n",
              "      <th>...</th>\n",
              "      <td>...</td>\n",
              "      <td>...</td>\n",
              "      <td>...</td>\n",
              "      <td>...</td>\n",
              "      <td>...</td>\n",
              "      <td>...</td>\n",
              "      <td>...</td>\n",
              "      <td>...</td>\n",
              "      <td>...</td>\n",
              "      <td>...</td>\n",
              "      <td>...</td>\n",
              "      <td>...</td>\n",
              "      <td>...</td>\n",
              "      <td>...</td>\n",
              "      <td>...</td>\n",
              "      <td>...</td>\n",
              "      <td>...</td>\n",
              "      <td>...</td>\n",
              "      <td>...</td>\n",
              "      <td>...</td>\n",
              "      <td>...</td>\n",
              "    </tr>\n",
              "    <tr>\n",
              "      <th>75669</th>\n",
              "      <td>95669</td>\n",
              "      <td>D</td>\n",
              "      <td>Friday</td>\n",
              "      <td>0</td>\n",
              "      <td>0</td>\n",
              "      <td>0</td>\n",
              "      <td>0</td>\n",
              "      <td>0</td>\n",
              "      <td>0</td>\n",
              "      <td>0</td>\n",
              "      <td>...</td>\n",
              "      <td>0</td>\n",
              "      <td>0</td>\n",
              "      <td>0</td>\n",
              "      <td>0</td>\n",
              "      <td>0</td>\n",
              "      <td>0</td>\n",
              "      <td>0</td>\n",
              "      <td>0</td>\n",
              "      <td>0</td>\n",
              "      <td>0</td>\n",
              "    </tr>\n",
              "    <tr>\n",
              "      <th>75670</th>\n",
              "      <td>95670</td>\n",
              "      <td>A</td>\n",
              "      <td>Friday</td>\n",
              "      <td>0</td>\n",
              "      <td>0</td>\n",
              "      <td>0</td>\n",
              "      <td>0</td>\n",
              "      <td>0</td>\n",
              "      <td>0</td>\n",
              "      <td>0</td>\n",
              "      <td>...</td>\n",
              "      <td>0</td>\n",
              "      <td>0</td>\n",
              "      <td>0</td>\n",
              "      <td>0</td>\n",
              "      <td>0</td>\n",
              "      <td>0</td>\n",
              "      <td>0</td>\n",
              "      <td>0</td>\n",
              "      <td>0</td>\n",
              "      <td>2</td>\n",
              "    </tr>\n",
              "    <tr>\n",
              "      <th>75671</th>\n",
              "      <td>95671</td>\n",
              "      <td>I</td>\n",
              "      <td>Tuesday</td>\n",
              "      <td>0</td>\n",
              "      <td>0</td>\n",
              "      <td>0</td>\n",
              "      <td>0</td>\n",
              "      <td>0</td>\n",
              "      <td>0</td>\n",
              "      <td>0</td>\n",
              "      <td>...</td>\n",
              "      <td>0</td>\n",
              "      <td>0</td>\n",
              "      <td>0</td>\n",
              "      <td>0</td>\n",
              "      <td>0</td>\n",
              "      <td>0</td>\n",
              "      <td>0</td>\n",
              "      <td>0</td>\n",
              "      <td>0</td>\n",
              "      <td>0</td>\n",
              "    </tr>\n",
              "    <tr>\n",
              "      <th>75672</th>\n",
              "      <td>95672</td>\n",
              "      <td>C</td>\n",
              "      <td>Tuesday</td>\n",
              "      <td>0</td>\n",
              "      <td>0</td>\n",
              "      <td>0</td>\n",
              "      <td>0</td>\n",
              "      <td>0</td>\n",
              "      <td>0</td>\n",
              "      <td>0</td>\n",
              "      <td>...</td>\n",
              "      <td>0</td>\n",
              "      <td>0</td>\n",
              "      <td>0</td>\n",
              "      <td>0</td>\n",
              "      <td>0</td>\n",
              "      <td>0</td>\n",
              "      <td>0</td>\n",
              "      <td>0</td>\n",
              "      <td>0</td>\n",
              "      <td>0</td>\n",
              "    </tr>\n",
              "    <tr>\n",
              "      <th>75673</th>\n",
              "      <td>95673</td>\n",
              "      <td>I</td>\n",
              "      <td>Tuesday</td>\n",
              "      <td>0</td>\n",
              "      <td>0</td>\n",
              "      <td>0</td>\n",
              "      <td>0</td>\n",
              "      <td>0</td>\n",
              "      <td>0</td>\n",
              "      <td>0</td>\n",
              "      <td>...</td>\n",
              "      <td>0</td>\n",
              "      <td>0</td>\n",
              "      <td>0</td>\n",
              "      <td>0</td>\n",
              "      <td>0</td>\n",
              "      <td>0</td>\n",
              "      <td>0</td>\n",
              "      <td>0</td>\n",
              "      <td>0</td>\n",
              "      <td>0</td>\n",
              "    </tr>\n",
              "  </tbody>\n",
              "</table>\n",
              "<p>75674 rows × 56 columns</p>\n",
              "</div>\n",
              "      <button class=\"colab-df-convert\" onclick=\"convertToInteractive('df-050b101d-4e11-4296-b722-1ccbb9cb154f')\"\n",
              "              title=\"Convert this dataframe to an interactive table.\"\n",
              "              style=\"display:none;\">\n",
              "        \n",
              "  <svg xmlns=\"http://www.w3.org/2000/svg\" height=\"24px\"viewBox=\"0 0 24 24\"\n",
              "       width=\"24px\">\n",
              "    <path d=\"M0 0h24v24H0V0z\" fill=\"none\"/>\n",
              "    <path d=\"M18.56 5.44l.94 2.06.94-2.06 2.06-.94-2.06-.94-.94-2.06-.94 2.06-2.06.94zm-11 1L8.5 8.5l.94-2.06 2.06-.94-2.06-.94L8.5 2.5l-.94 2.06-2.06.94zm10 10l.94 2.06.94-2.06 2.06-.94-2.06-.94-.94-2.06-.94 2.06-2.06.94z\"/><path d=\"M17.41 7.96l-1.37-1.37c-.4-.4-.92-.59-1.43-.59-.52 0-1.04.2-1.43.59L10.3 9.45l-7.72 7.72c-.78.78-.78 2.05 0 2.83L4 21.41c.39.39.9.59 1.41.59.51 0 1.02-.2 1.41-.59l7.78-7.78 2.81-2.81c.8-.78.8-2.07 0-2.86zM5.41 20L4 18.59l7.72-7.72 1.47 1.35L5.41 20z\"/>\n",
              "  </svg>\n",
              "      </button>\n",
              "      \n",
              "  <style>\n",
              "    .colab-df-container {\n",
              "      display:flex;\n",
              "      flex-wrap:wrap;\n",
              "      gap: 12px;\n",
              "    }\n",
              "\n",
              "    .colab-df-convert {\n",
              "      background-color: #E8F0FE;\n",
              "      border: none;\n",
              "      border-radius: 50%;\n",
              "      cursor: pointer;\n",
              "      display: none;\n",
              "      fill: #1967D2;\n",
              "      height: 32px;\n",
              "      padding: 0 0 0 0;\n",
              "      width: 32px;\n",
              "    }\n",
              "\n",
              "    .colab-df-convert:hover {\n",
              "      background-color: #E2EBFA;\n",
              "      box-shadow: 0px 1px 2px rgba(60, 64, 67, 0.3), 0px 1px 3px 1px rgba(60, 64, 67, 0.15);\n",
              "      fill: #174EA6;\n",
              "    }\n",
              "\n",
              "    [theme=dark] .colab-df-convert {\n",
              "      background-color: #3B4455;\n",
              "      fill: #D2E3FC;\n",
              "    }\n",
              "\n",
              "    [theme=dark] .colab-df-convert:hover {\n",
              "      background-color: #434B5C;\n",
              "      box-shadow: 0px 1px 3px 1px rgba(0, 0, 0, 0.15);\n",
              "      filter: drop-shadow(0px 1px 2px rgba(0, 0, 0, 0.3));\n",
              "      fill: #FFFFFF;\n",
              "    }\n",
              "  </style>\n",
              "\n",
              "      <script>\n",
              "        const buttonEl =\n",
              "          document.querySelector('#df-050b101d-4e11-4296-b722-1ccbb9cb154f button.colab-df-convert');\n",
              "        buttonEl.style.display =\n",
              "          google.colab.kernel.accessAllowed ? 'block' : 'none';\n",
              "\n",
              "        async function convertToInteractive(key) {\n",
              "          const element = document.querySelector('#df-050b101d-4e11-4296-b722-1ccbb9cb154f');\n",
              "          const dataTable =\n",
              "            await google.colab.kernel.invokeFunction('convertToInteractive',\n",
              "                                                     [key], {});\n",
              "          if (!dataTable) return;\n",
              "\n",
              "          const docLinkHtml = 'Like what you see? Visit the ' +\n",
              "            '<a target=\"_blank\" href=https://colab.research.google.com/notebooks/data_table.ipynb>data table notebook</a>'\n",
              "            + ' to learn more about interactive tables.';\n",
              "          element.innerHTML = '';\n",
              "          dataTable['output_type'] = 'display_data';\n",
              "          await google.colab.output.renderOutput(dataTable, element);\n",
              "          const docLink = document.createElement('div');\n",
              "          docLink.innerHTML = docLinkHtml;\n",
              "          element.appendChild(docLink);\n",
              "        }\n",
              "      </script>\n",
              "    </div>\n",
              "  </div>\n",
              "  "
            ]
          },
          "metadata": {},
          "execution_count": 5
        }
      ]
    },
    {
      "metadata": {
        "id": "39JNOgtDyXOr"
      },
      "cell_type": "code",
      "source": [
        "data_list = list(data.columns)"
      ],
      "execution_count": 6,
      "outputs": []
    },
    {
      "metadata": {
        "id": "wKikOl1R0SIA",
        "colab": {
          "base_uri": "https://localhost:8080/"
        },
        "outputId": "ad9d55d7-0143-4124-c290-491e6b6b4a45"
      },
      "cell_type": "code",
      "source": [
        "del data_list[0]\n",
        "\n",
        "data_list"
      ],
      "execution_count": 7,
      "outputs": [
        {
          "output_type": "execute_result",
          "data": {
            "text/plain": [
              "['Class',\n",
              " 'Weekday',\n",
              " 'ACCESSORIES',\n",
              " 'AUTOMOTIVE',\n",
              " 'BAKERY',\n",
              " 'BATH.AND.SHOWER',\n",
              " 'BEAUTY',\n",
              " 'BEDDING',\n",
              " 'BOOKS.AND.MAGAZINES',\n",
              " 'BOYS.WEAR',\n",
              " 'BRAS...SHAPEWEAR',\n",
              " 'CANDY..TOBACCO..COOKIES',\n",
              " 'CELEBRATION',\n",
              " 'COMM.BREAD',\n",
              " 'COOK.AND.DINE',\n",
              " 'DAIRY',\n",
              " 'DSD.GROCERY',\n",
              " 'ELECTRONICS',\n",
              " 'FABRICS.AND.CRAFTS',\n",
              " 'FINANCIAL.SERVICES',\n",
              " 'FROZEN.FOODS',\n",
              " 'GIRLS.WEAR',\n",
              " 'GROCERY.DRY.GOODS',\n",
              " 'HARDWARE',\n",
              " 'HOME.DECOR',\n",
              " 'HOME.MANAGEMENT',\n",
              " 'HORTICULTURE.AND.ACCESS',\n",
              " 'HOUSEHOLD.CHEMICALS.SUPP',\n",
              " 'HOUSEHOLD.PAPER.GOODS',\n",
              " 'IMPULSE.MERCHANDISE',\n",
              " 'INFANT.APPAREL',\n",
              " 'INFANT.CONSUMABLE.HARDLINES',\n",
              " 'LADIESWEAR',\n",
              " 'LAWN.AND.GARDEN',\n",
              " 'LIQUOR.WINE.BEER',\n",
              " 'MEAT...FRESH...FROZEN',\n",
              " 'MEDIA.AND.GAMING',\n",
              " 'MENSWEAR',\n",
              " 'OFFICE.SUPPLIES',\n",
              " 'PAINT.AND.ACCESSORIES',\n",
              " 'PERSONAL.CARE',\n",
              " 'PETS.AND.SUPPLIES',\n",
              " 'PLUS.AND.MATERNITY',\n",
              " 'PRE.PACKED.DELI',\n",
              " 'PRODUCE',\n",
              " 'SEAFOOD',\n",
              " 'SERVICE.DELI',\n",
              " 'SHEER.HOSIERY',\n",
              " 'SHOES',\n",
              " 'SLEEPWEAR.FOUNDATIONS',\n",
              " 'SPORTING.GOODS',\n",
              " 'SWIMWEAR.OUTERWEAR',\n",
              " 'TOYS',\n",
              " 'WIRELESS',\n",
              " 'PHARMACY']"
            ]
          },
          "metadata": {},
          "execution_count": 7
        }
      ]
    },
    {
      "metadata": {
        "id": "gXG63pY-zkku"
      },
      "cell_type": "code",
      "source": [
        "# wd = data.Weekday"
      ],
      "execution_count": 8,
      "outputs": []
    },
    {
      "metadata": {
        "id": "kdmGjevzzknG"
      },
      "cell_type": "code",
      "source": [
        "# Wd = wd.map({'Monday': 0, 'Tuesday': 1, 'Wednesday':2, 'Thursday':3, 'Friday':4, 'Satarday':5, 'Sunday':6 }).values\n",
        "# WKD = np.asanyarray(Wd)"
      ],
      "execution_count": 9,
      "outputs": []
    },
    {
      "metadata": {
        "id": "-geu4pTN0V5c",
        "colab": {
          "base_uri": "https://localhost:8080/"
        },
        "outputId": "9a2d3bbe-0d1d-4058-99c9-ee685fc2b6c7"
      },
      "cell_type": "code",
      "source": [
        "import os as os\n",
        "import csv as csv\n",
        "import numpy as np\n",
        "import scipy as spy\n",
        "import sklearn as kit\n",
        "import pandas as pd\n",
        "import statsmodels.api as sm\n",
        "import matplotlib.pyplot as plt\n",
        "from statsmodels.sandbox.regression.predstd import wls_prediction_std\n",
        "from sklearn.datasets import make_classification\n",
        "import matplotlib as mpl\n",
        "import seaborn as sns\n",
        "import math\n",
        "from scipy import stats"
      ],
      "execution_count": 10,
      "outputs": [
        {
          "output_type": "stream",
          "name": "stderr",
          "text": [
            "/usr/local/lib/python3.7/dist-packages/statsmodels/tools/_testing.py:19: FutureWarning: pandas.util.testing is deprecated. Use the functions in the public API at pandas.testing instead.\n",
            "  import pandas.util.testing as tm\n"
          ]
        }
      ]
    },
    {
      "metadata": {
        "id": "X0Db7gNr0fu8",
        "colab": {
          "base_uri": "https://localhost:8080/"
        },
        "outputId": "79085d28-52ee-41e4-aedc-96448c90e914"
      },
      "cell_type": "code",
      "source": [
        "data.isnull().sum()"
      ],
      "execution_count": 11,
      "outputs": [
        {
          "output_type": "execute_result",
          "data": {
            "text/plain": [
              "ID                             0\n",
              "Class                          0\n",
              "Weekday                        0\n",
              "ACCESSORIES                    0\n",
              "AUTOMOTIVE                     0\n",
              "BAKERY                         0\n",
              "BATH.AND.SHOWER                0\n",
              "BEAUTY                         0\n",
              "BEDDING                        0\n",
              "BOOKS.AND.MAGAZINES            0\n",
              "BOYS.WEAR                      0\n",
              "BRAS...SHAPEWEAR               0\n",
              "CANDY..TOBACCO..COOKIES        0\n",
              "CELEBRATION                    0\n",
              "COMM.BREAD                     0\n",
              "COOK.AND.DINE                  0\n",
              "DAIRY                          0\n",
              "DSD.GROCERY                    0\n",
              "ELECTRONICS                    0\n",
              "FABRICS.AND.CRAFTS             0\n",
              "FINANCIAL.SERVICES             0\n",
              "FROZEN.FOODS                   0\n",
              "GIRLS.WEAR                     0\n",
              "GROCERY.DRY.GOODS              0\n",
              "HARDWARE                       0\n",
              "HOME.DECOR                     0\n",
              "HOME.MANAGEMENT                0\n",
              "HORTICULTURE.AND.ACCESS        0\n",
              "HOUSEHOLD.CHEMICALS.SUPP       0\n",
              "HOUSEHOLD.PAPER.GOODS          0\n",
              "IMPULSE.MERCHANDISE            0\n",
              "INFANT.APPAREL                 0\n",
              "INFANT.CONSUMABLE.HARDLINES    0\n",
              "LADIESWEAR                     0\n",
              "LAWN.AND.GARDEN                0\n",
              "LIQUOR.WINE.BEER               0\n",
              "MEAT...FRESH...FROZEN          0\n",
              "MEDIA.AND.GAMING               0\n",
              "MENSWEAR                       0\n",
              "OFFICE.SUPPLIES                0\n",
              "PAINT.AND.ACCESSORIES          0\n",
              "PERSONAL.CARE                  0\n",
              "PETS.AND.SUPPLIES              0\n",
              "PLUS.AND.MATERNITY             0\n",
              "PRE.PACKED.DELI                0\n",
              "PRODUCE                        0\n",
              "SEAFOOD                        0\n",
              "SERVICE.DELI                   0\n",
              "SHEER.HOSIERY                  0\n",
              "SHOES                          0\n",
              "SLEEPWEAR.FOUNDATIONS          0\n",
              "SPORTING.GOODS                 0\n",
              "SWIMWEAR.OUTERWEAR             0\n",
              "TOYS                           0\n",
              "WIRELESS                       0\n",
              "PHARMACY                       0\n",
              "dtype: int64"
            ]
          },
          "metadata": {},
          "execution_count": 11
        }
      ]
    },
    {
      "cell_type": "code",
      "source": [
        "!pip install sklearn"
      ],
      "metadata": {
        "colab": {
          "base_uri": "https://localhost:8080/"
        },
        "id": "56cYeW4IqHbt",
        "outputId": "53e5ad54-540c-47d8-8911-82c1905a088d"
      },
      "execution_count": 12,
      "outputs": [
        {
          "output_type": "stream",
          "name": "stdout",
          "text": [
            "Looking in indexes: https://pypi.org/simple, https://us-python.pkg.dev/colab-wheels/public/simple/\n",
            "Requirement already satisfied: sklearn in /usr/local/lib/python3.7/dist-packages (0.0)\n",
            "Requirement already satisfied: scikit-learn in /usr/local/lib/python3.7/dist-packages (from sklearn) (1.0.2)\n",
            "Requirement already satisfied: threadpoolctl>=2.0.0 in /usr/local/lib/python3.7/dist-packages (from scikit-learn->sklearn) (3.1.0)\n",
            "Requirement already satisfied: joblib>=0.11 in /usr/local/lib/python3.7/dist-packages (from scikit-learn->sklearn) (1.1.0)\n",
            "Requirement already satisfied: scipy>=1.1.0 in /usr/local/lib/python3.7/dist-packages (from scikit-learn->sklearn) (1.4.1)\n",
            "Requirement already satisfied: numpy>=1.14.6 in /usr/local/lib/python3.7/dist-packages (from scikit-learn->sklearn) (1.21.6)\n"
          ]
        }
      ]
    },
    {
      "metadata": {
        "id": "ls2ihdWTIsSf"
      },
      "cell_type": "code",
      "source": [
        "#from sklearn.cross_validation import train_test_split\n",
        "from sklearn.model_selection import train_test_split \n",
        "import numpy as np"
      ],
      "execution_count": 13,
      "outputs": []
    },
    {
      "metadata": {
        "id": "ZkzxL0gk0nMj"
      },
      "cell_type": "code",
      "source": [
        "Y = y.map({'A': 0, 'B': 1, 'C':2, 'D':3, 'E':4, 'F':5, 'G':6, 'H':7, 'I':8, 'J':9, 'K':10, 'L':11}).values\n",
        "\n",
        "for i in range(len(Y)):\n",
        "  print(Y[i])"
      ],
      "execution_count": null,
      "outputs": []
    },
    {
      "metadata": {
        "id": "0vuolZ_j0iRm",
        "colab": {
          "base_uri": "https://localhost:8080/"
        },
        "outputId": "ecdcfbcb-17d8-441f-e5dc-d01fbae02a5f"
      },
      "cell_type": "code",
      "source": [
        "X = data.iloc[:,1:]\n",
        "y = data.loc[:,'Class']\n",
        "X_train, X_test, y_train, y_test = train_test_split(X, Y, random_state=0)\n",
        "print(len(X_test), len(y_test))"
      ],
      "execution_count": 26,
      "outputs": [
        {
          "output_type": "stream",
          "name": "stdout",
          "text": [
            "18919 18919\n"
          ]
        }
      ]
    },
    {
      "metadata": {
        "id": "ZaMS6Af_2Rz3",
        "colab": {
          "base_uri": "https://localhost:8080/"
        },
        "outputId": "5fa603f3-f93c-48b3-ee3d-18fbd4887440"
      },
      "cell_type": "code",
      "source": [
        "y_train"
      ],
      "execution_count": 17,
      "outputs": [
        {
          "output_type": "execute_result",
          "data": {
            "text/plain": [
              "array([8, 1, 5, ..., 6, 1, 2])"
            ]
          },
          "metadata": {},
          "execution_count": 17
        }
      ]
    },
    {
      "metadata": {
        "id": "gDCxSFHX5AQu",
        "colab": {
          "base_uri": "https://localhost:8080/"
        },
        "outputId": "0adfc5bc-4d91-4557-c7e9-1c0547987c4f"
      },
      "cell_type": "code",
      "source": [
        "import collections\n",
        "collections.Counter(y_train)\n",
        "collections.Counter(y_test)     "
      ],
      "execution_count": 24,
      "outputs": [
        {
          "output_type": "execute_result",
          "data": {
            "text/plain": [
              "Counter({0: 1984,\n",
              "         1: 1199,\n",
              "         2: 2390,\n",
              "         3: 1895,\n",
              "         4: 901,\n",
              "         5: 2042,\n",
              "         6: 1146,\n",
              "         7: 1680,\n",
              "         8: 1935,\n",
              "         9: 1251,\n",
              "         10: 902,\n",
              "         11: 1594})"
            ]
          },
          "metadata": {},
          "execution_count": 24
        }
      ]
    },
    {
      "metadata": {
        "id": "NK1FjvZI5Js6",
        "colab": {
          "base_uri": "https://localhost:8080/",
          "height": 363
        },
        "outputId": "85c48176-25cf-44ff-9ed7-48cb03b4b88d"
      },
      "cell_type": "code",
      "source": [
        "from sklearn.linear_model import LogisticRegression\n",
        "#from sklearn.cross_validation import KFold   #For K-fold cross validation\n",
        "from sklearn.model_selection import KFold\n",
        "from sklearn.tree import DecisionTreeClassifier, export_graphviz\n",
        "from sklearn import metrics\n",
        "\n",
        "classifier = LogisticRegression(random_state=0)\n",
        "classifier.fit(X_train, y_train)\n"
      ],
      "execution_count": 29,
      "outputs": [
        {
          "output_type": "error",
          "ename": "ValueError",
          "evalue": "ignored",
          "traceback": [
            "\u001b[0;31m---------------------------------------------------------------------------\u001b[0m",
            "\u001b[0;31mValueError\u001b[0m                                Traceback (most recent call last)",
            "\u001b[0;32m<ipython-input-29-cd5242ee2267>\u001b[0m in \u001b[0;36m<module>\u001b[0;34m()\u001b[0m\n\u001b[1;32m      6\u001b[0m \u001b[0;34m\u001b[0m\u001b[0m\n\u001b[1;32m      7\u001b[0m \u001b[0mclassifier\u001b[0m \u001b[0;34m=\u001b[0m \u001b[0mLogisticRegression\u001b[0m\u001b[0;34m(\u001b[0m\u001b[0mrandom_state\u001b[0m\u001b[0;34m=\u001b[0m\u001b[0;36m0\u001b[0m\u001b[0;34m)\u001b[0m\u001b[0;34m\u001b[0m\u001b[0;34m\u001b[0m\u001b[0m\n\u001b[0;32m----> 8\u001b[0;31m \u001b[0mclassifier\u001b[0m\u001b[0;34m.\u001b[0m\u001b[0mfit\u001b[0m\u001b[0;34m(\u001b[0m\u001b[0mX_train\u001b[0m\u001b[0;34m,\u001b[0m \u001b[0my_train\u001b[0m\u001b[0;34m)\u001b[0m\u001b[0;34m\u001b[0m\u001b[0;34m\u001b[0m\u001b[0m\n\u001b[0m",
            "\u001b[0;32m/usr/local/lib/python3.7/dist-packages/sklearn/linear_model/_logistic.py\u001b[0m in \u001b[0;36mfit\u001b[0;34m(self, X, y, sample_weight)\u001b[0m\n\u001b[1;32m   1512\u001b[0m             \u001b[0mdtype\u001b[0m\u001b[0;34m=\u001b[0m\u001b[0m_dtype\u001b[0m\u001b[0;34m,\u001b[0m\u001b[0;34m\u001b[0m\u001b[0;34m\u001b[0m\u001b[0m\n\u001b[1;32m   1513\u001b[0m             \u001b[0morder\u001b[0m\u001b[0;34m=\u001b[0m\u001b[0;34m\"C\"\u001b[0m\u001b[0;34m,\u001b[0m\u001b[0;34m\u001b[0m\u001b[0;34m\u001b[0m\u001b[0m\n\u001b[0;32m-> 1514\u001b[0;31m             \u001b[0maccept_large_sparse\u001b[0m\u001b[0;34m=\u001b[0m\u001b[0msolver\u001b[0m \u001b[0;32mnot\u001b[0m \u001b[0;32min\u001b[0m \u001b[0;34m[\u001b[0m\u001b[0;34m\"liblinear\"\u001b[0m\u001b[0;34m,\u001b[0m \u001b[0;34m\"sag\"\u001b[0m\u001b[0;34m,\u001b[0m \u001b[0;34m\"saga\"\u001b[0m\u001b[0;34m]\u001b[0m\u001b[0;34m,\u001b[0m\u001b[0;34m\u001b[0m\u001b[0;34m\u001b[0m\u001b[0m\n\u001b[0m\u001b[1;32m   1515\u001b[0m         )\n\u001b[1;32m   1516\u001b[0m         \u001b[0mcheck_classification_targets\u001b[0m\u001b[0;34m(\u001b[0m\u001b[0my\u001b[0m\u001b[0;34m)\u001b[0m\u001b[0;34m\u001b[0m\u001b[0;34m\u001b[0m\u001b[0m\n",
            "\u001b[0;32m/usr/local/lib/python3.7/dist-packages/sklearn/base.py\u001b[0m in \u001b[0;36m_validate_data\u001b[0;34m(self, X, y, reset, validate_separately, **check_params)\u001b[0m\n\u001b[1;32m    579\u001b[0m                 \u001b[0my\u001b[0m \u001b[0;34m=\u001b[0m \u001b[0mcheck_array\u001b[0m\u001b[0;34m(\u001b[0m\u001b[0my\u001b[0m\u001b[0;34m,\u001b[0m \u001b[0;34m**\u001b[0m\u001b[0mcheck_y_params\u001b[0m\u001b[0;34m)\u001b[0m\u001b[0;34m\u001b[0m\u001b[0;34m\u001b[0m\u001b[0m\n\u001b[1;32m    580\u001b[0m             \u001b[0;32melse\u001b[0m\u001b[0;34m:\u001b[0m\u001b[0;34m\u001b[0m\u001b[0;34m\u001b[0m\u001b[0m\n\u001b[0;32m--> 581\u001b[0;31m                 \u001b[0mX\u001b[0m\u001b[0;34m,\u001b[0m \u001b[0my\u001b[0m \u001b[0;34m=\u001b[0m \u001b[0mcheck_X_y\u001b[0m\u001b[0;34m(\u001b[0m\u001b[0mX\u001b[0m\u001b[0;34m,\u001b[0m \u001b[0my\u001b[0m\u001b[0;34m,\u001b[0m \u001b[0;34m**\u001b[0m\u001b[0mcheck_params\u001b[0m\u001b[0;34m)\u001b[0m\u001b[0;34m\u001b[0m\u001b[0;34m\u001b[0m\u001b[0m\n\u001b[0m\u001b[1;32m    582\u001b[0m             \u001b[0mout\u001b[0m \u001b[0;34m=\u001b[0m \u001b[0mX\u001b[0m\u001b[0;34m,\u001b[0m \u001b[0my\u001b[0m\u001b[0;34m\u001b[0m\u001b[0;34m\u001b[0m\u001b[0m\n\u001b[1;32m    583\u001b[0m \u001b[0;34m\u001b[0m\u001b[0m\n",
            "\u001b[0;32m/usr/local/lib/python3.7/dist-packages/sklearn/utils/validation.py\u001b[0m in \u001b[0;36mcheck_X_y\u001b[0;34m(X, y, accept_sparse, accept_large_sparse, dtype, order, copy, force_all_finite, ensure_2d, allow_nd, multi_output, ensure_min_samples, ensure_min_features, y_numeric, estimator)\u001b[0m\n\u001b[1;32m    974\u001b[0m         \u001b[0mensure_min_samples\u001b[0m\u001b[0;34m=\u001b[0m\u001b[0mensure_min_samples\u001b[0m\u001b[0;34m,\u001b[0m\u001b[0;34m\u001b[0m\u001b[0;34m\u001b[0m\u001b[0m\n\u001b[1;32m    975\u001b[0m         \u001b[0mensure_min_features\u001b[0m\u001b[0;34m=\u001b[0m\u001b[0mensure_min_features\u001b[0m\u001b[0;34m,\u001b[0m\u001b[0;34m\u001b[0m\u001b[0;34m\u001b[0m\u001b[0m\n\u001b[0;32m--> 976\u001b[0;31m         \u001b[0mestimator\u001b[0m\u001b[0;34m=\u001b[0m\u001b[0mestimator\u001b[0m\u001b[0;34m,\u001b[0m\u001b[0;34m\u001b[0m\u001b[0;34m\u001b[0m\u001b[0m\n\u001b[0m\u001b[1;32m    977\u001b[0m     )\n\u001b[1;32m    978\u001b[0m \u001b[0;34m\u001b[0m\u001b[0m\n",
            "\u001b[0;32m/usr/local/lib/python3.7/dist-packages/sklearn/utils/validation.py\u001b[0m in \u001b[0;36mcheck_array\u001b[0;34m(array, accept_sparse, accept_large_sparse, dtype, order, copy, force_all_finite, ensure_2d, allow_nd, ensure_min_samples, ensure_min_features, estimator)\u001b[0m\n\u001b[1;32m    744\u001b[0m                     \u001b[0marray\u001b[0m \u001b[0;34m=\u001b[0m \u001b[0marray\u001b[0m\u001b[0;34m.\u001b[0m\u001b[0mastype\u001b[0m\u001b[0;34m(\u001b[0m\u001b[0mdtype\u001b[0m\u001b[0;34m,\u001b[0m \u001b[0mcasting\u001b[0m\u001b[0;34m=\u001b[0m\u001b[0;34m\"unsafe\"\u001b[0m\u001b[0;34m,\u001b[0m \u001b[0mcopy\u001b[0m\u001b[0;34m=\u001b[0m\u001b[0;32mFalse\u001b[0m\u001b[0;34m)\u001b[0m\u001b[0;34m\u001b[0m\u001b[0;34m\u001b[0m\u001b[0m\n\u001b[1;32m    745\u001b[0m                 \u001b[0;32melse\u001b[0m\u001b[0;34m:\u001b[0m\u001b[0;34m\u001b[0m\u001b[0;34m\u001b[0m\u001b[0m\n\u001b[0;32m--> 746\u001b[0;31m                     \u001b[0marray\u001b[0m \u001b[0;34m=\u001b[0m \u001b[0mnp\u001b[0m\u001b[0;34m.\u001b[0m\u001b[0masarray\u001b[0m\u001b[0;34m(\u001b[0m\u001b[0marray\u001b[0m\u001b[0;34m,\u001b[0m \u001b[0morder\u001b[0m\u001b[0;34m=\u001b[0m\u001b[0morder\u001b[0m\u001b[0;34m,\u001b[0m \u001b[0mdtype\u001b[0m\u001b[0;34m=\u001b[0m\u001b[0mdtype\u001b[0m\u001b[0;34m)\u001b[0m\u001b[0;34m\u001b[0m\u001b[0;34m\u001b[0m\u001b[0m\n\u001b[0m\u001b[1;32m    747\u001b[0m             \u001b[0;32mexcept\u001b[0m \u001b[0mComplexWarning\u001b[0m \u001b[0;32mas\u001b[0m \u001b[0mcomplex_warning\u001b[0m\u001b[0;34m:\u001b[0m\u001b[0;34m\u001b[0m\u001b[0;34m\u001b[0m\u001b[0m\n\u001b[1;32m    748\u001b[0m                 raise ValueError(\n",
            "\u001b[0;32m/usr/local/lib/python3.7/dist-packages/pandas/core/generic.py\u001b[0m in \u001b[0;36m__array__\u001b[0;34m(self, dtype)\u001b[0m\n\u001b[1;32m   1991\u001b[0m \u001b[0;34m\u001b[0m\u001b[0m\n\u001b[1;32m   1992\u001b[0m     \u001b[0;32mdef\u001b[0m \u001b[0m__array__\u001b[0m\u001b[0;34m(\u001b[0m\u001b[0mself\u001b[0m\u001b[0;34m,\u001b[0m \u001b[0mdtype\u001b[0m\u001b[0;34m:\u001b[0m \u001b[0mNpDtype\u001b[0m \u001b[0;34m|\u001b[0m \u001b[0;32mNone\u001b[0m \u001b[0;34m=\u001b[0m \u001b[0;32mNone\u001b[0m\u001b[0;34m)\u001b[0m \u001b[0;34m->\u001b[0m \u001b[0mnp\u001b[0m\u001b[0;34m.\u001b[0m\u001b[0mndarray\u001b[0m\u001b[0;34m:\u001b[0m\u001b[0;34m\u001b[0m\u001b[0;34m\u001b[0m\u001b[0m\n\u001b[0;32m-> 1993\u001b[0;31m         \u001b[0;32mreturn\u001b[0m \u001b[0mnp\u001b[0m\u001b[0;34m.\u001b[0m\u001b[0masarray\u001b[0m\u001b[0;34m(\u001b[0m\u001b[0mself\u001b[0m\u001b[0;34m.\u001b[0m\u001b[0m_values\u001b[0m\u001b[0;34m,\u001b[0m \u001b[0mdtype\u001b[0m\u001b[0;34m=\u001b[0m\u001b[0mdtype\u001b[0m\u001b[0;34m)\u001b[0m\u001b[0;34m\u001b[0m\u001b[0;34m\u001b[0m\u001b[0m\n\u001b[0m\u001b[1;32m   1994\u001b[0m \u001b[0;34m\u001b[0m\u001b[0m\n\u001b[1;32m   1995\u001b[0m     def __array_wrap__(\n",
            "\u001b[0;31mValueError\u001b[0m: could not convert string to float: 'I'"
          ]
        }
      ]
    },
    {
      "metadata": {
        "id": "eVHhqNip5QgM",
        "colab": {
          "base_uri": "https://localhost:8080/",
          "height": 228
        },
        "outputId": "9f3ed55a-d39d-45d0-fa57-ac5bc2a1865a"
      },
      "cell_type": "code",
      "source": [
        "y_pred = classifier.predict(X_test)\n",
        "from sklearn.metrics import confusion_matrix\n",
        "confusion_matrix = confusion_matrix(y_test, y_pred)\n",
        "print(confusion_matrix)\n",
        "\n",
        "t = confusion_matrix"
      ],
      "execution_count": null,
      "outputs": [
        {
          "output_type": "stream",
          "text": [
            "[[1670   11  123   45   13   15   10   31   44    1    3   18]\n",
            " [  14  779  199    1   10    7    4  102   71    7    1    4]\n",
            " [  77   63 2074   30    9   20   24   54   16    0    0   23]\n",
            " [  35   11  120 1344   61  206   20    2   13    0    0   83]\n",
            " [  22   12   58  192  408   49   23   36   52    9   19   21]\n",
            " [  43    5    4  263   32 1407   31   47  110   11   43   46]\n",
            " [  21   20  256   10   25   38  606   30   98   21   16    5]\n",
            " [  50  104  259    1   20   46   35  861  158  133    9    4]\n",
            " [ 108  120   94    0   54   85  171  358  819   92   32    2]\n",
            " [   4   29    0    0   11   15   60  121   45  946   20    0]\n",
            " [  18    0    1   13  159  403   47   17   43   24  170    7]\n",
            " [ 367   21  495  466   34  109   13   14   16    2    1   56]]\n"
          ],
          "name": "stdout"
        }
      ]
    },
    {
      "metadata": {
        "id": "UjugIGoF5pFK"
      },
      "cell_type": "code",
      "source": [
        "# a = 0\n",
        "# b = 0\n",
        "# for j in range(12):\n",
        "#   for i in range(12):\n",
        "#     a = t[i][j] + a\n",
        "# for i in range(12):\n",
        "#   for j in range(12):\n",
        "# #     t.replace(t[i][j],t[i][j]/a)\n",
        "#     t[i][j] = t[i][j]/a   \n"
      ],
      "execution_count": null,
      "outputs": []
    },
    {
      "metadata": {
        "id": "MciKLbwY6AoC",
        "colab": {
          "base_uri": "https://localhost:8080/",
          "height": 34
        },
        "outputId": "290c671d-848a-45d6-d710-148dda552f1f"
      },
      "cell_type": "code",
      "source": [
        "print('Accuracy of logistic regression classifier on test set: {:.2f}'.format(classifier.score(X_test, y_test)))"
      ],
      "execution_count": null,
      "outputs": [
        {
          "output_type": "stream",
          "text": [
            "Accuracy of logistic regression classifier on test set: 0.59\n"
          ],
          "name": "stdout"
        }
      ]
    },
    {
      "metadata": {
        "id": "LoFXDOS56Aqd",
        "colab": {
          "base_uri": "https://localhost:8080/",
          "height": 316
        },
        "outputId": "599a99ca-2ce5-41e0-f4e1-2f3a04b6acf4"
      },
      "cell_type": "code",
      "source": [
        "from sklearn.metrics import classification_report\n",
        "print(classification_report(y_test, y_pred))"
      ],
      "execution_count": null,
      "outputs": [
        {
          "output_type": "stream",
          "text": [
            "             precision    recall  f1-score   support\n",
            "\n",
            "          A       0.69      0.84      0.76      1984\n",
            "          B       0.66      0.65      0.66      1199\n",
            "          C       0.56      0.87      0.68      2390\n",
            "          D       0.57      0.71      0.63      1895\n",
            "          E       0.49      0.45      0.47       901\n",
            "          F       0.59      0.69      0.63      2042\n",
            "          G       0.58      0.53      0.55      1146\n",
            "          H       0.51      0.51      0.51      1680\n",
            "          I       0.55      0.42      0.48      1935\n",
            "          J       0.76      0.76      0.76      1251\n",
            "          K       0.54      0.19      0.28       902\n",
            "          L       0.21      0.04      0.06      1594\n",
            "\n",
            "avg / total       0.56      0.59      0.56     18919\n",
            "\n"
          ],
          "name": "stdout"
        }
      ]
    },
    {
      "metadata": {
        "id": "C5h1w2HM6AtA"
      },
      "cell_type": "code",
      "source": [
        "# import numpy as np"
      ],
      "execution_count": null,
      "outputs": []
    },
    {
      "metadata": {
        "id": "ZurLMdeX6AvN"
      },
      "cell_type": "code",
      "source": [
        "# import pandas as pd\n",
        "\n",
        "\n",
        "# data = pd.read_csv('[FOR_DISTRIBUTE]train_data.csv')\n",
        "# data_list = list(data.columns)\n",
        "\n",
        "# del data_list[1]\n",
        "\n",
        "# import os as os\n",
        "# import csv as csv\n",
        "# import numpy as np\n",
        "# import scipy as spy\n",
        "# import sklearn as kit\n",
        "# import pandas as pd\n",
        "# import statsmodels.api as sm\n",
        "# import matplotlib.pyplot as plt\n",
        "# from statsmodels.sandbox.regression.predstd import wls_prediction_std\n",
        "# from sklearn.datasets import make_classification\n",
        "# import matplotlib as mpl\n",
        "# import seaborn as sns\n",
        "# import math\n",
        "# from scipy import stats\n",
        "\n",
        "# from sklearn.cross_validation import train_test_split\n",
        "# X = data.iloc[:,2:]\n",
        "# y = data.loc[:,'Class']\n",
        "# X_train, X_test, y_train, y_test = train_test_split(X, y, random_state=0)\n",
        "\n",
        "# Y = y.map({'A': 0, 'B': 1, 'C':2, 'D':3, 'E':4, 'F':5, 'G':6, 'H':7, 'I':8, 'J':9, 'K':10, 'L':11}).values\n",
        "\n",
        "# # import collections\n",
        "# # collections.Counter(y_train)\n",
        "# # collections.Counter(y_test)    \n",
        "\n",
        "# from sklearn.linear_model import LogisticRegression\n",
        "# from sklearn.cross_validation import KFold   #For K-fold cross validation\n",
        "# from sklearn.ensemble import RandomForestClassifier\n",
        "# from sklearn.tree import DecisionTreeClassifier, export_graphviz\n",
        "# from sklearn import metrics\n",
        "\n",
        "# classifier = LogisticRegression(random_state=0)\n",
        "# classifier.fit(X_train, y_train)\n",
        "\n",
        "\n",
        "# y_pred = classifier.predict(X_test)\n",
        "# from sklearn.metrics import confusion_matrix\n",
        "# confusion_matrix = confusion_matrix(y_test, y_pred)\n",
        "# # print(confusion_matrix)\n",
        "\n",
        "\n",
        "# print('Accuracy of logistic regression classifier on test set: {:.2f}'.format(classifier.score(X_test, y_test)))"
      ],
      "execution_count": null,
      "outputs": []
    },
    {
      "cell_type": "markdown",
      "source": [
        ""
      ],
      "metadata": {
        "id": "qrVLCE2MTabY"
      }
    }
  ]
}